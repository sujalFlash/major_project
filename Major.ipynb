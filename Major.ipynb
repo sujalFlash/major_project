{
  "cells": [
    {
      "cell_type": "code",
      "source": [
        "# ================================\n",
        "# Alzheimer's MRI Classification\n",
        "# ResNet50 + AMP + Warmup/Unfreeze + Cosine + EarlyStop + TTA + Grad-CAM\n",
        "# Colab-ready single cell\n",
        "# ================================\n",
        "\n",
        "# ---- installs (Colab)\n",
        "!pip -q install -U torch torchvision scikit-learn tqdm opencv-python-headless matplotlib\n",
        "\n",
        "# ---- (optional) mount Google Drive\n",
        "try:\n",
        "    from google.colab import drive\n",
        "    drive.mount('/content/drive')\n",
        "except Exception:\n",
        "    pass\n",
        "\n",
        "import os, random, warnings\n",
        "from pathlib import Path\n",
        "from collections import Counter\n",
        "\n",
        "import numpy as np\n",
        "import cv2\n",
        "import matplotlib.pyplot as plt\n",
        "\n",
        "import torch\n",
        "import torch.nn as nn\n",
        "import torch.optim as optim\n",
        "from torch.utils.data import DataLoader, Subset\n",
        "from torchvision import datasets, transforms, models\n",
        "from torchvision.models import ResNet50_Weights\n",
        "\n",
        "from sklearn.model_selection import StratifiedShuffleSplit\n",
        "from sklearn.metrics import (\n",
        "    classification_report, confusion_matrix, ConfusionMatrixDisplay,\n",
        "    f1_score, recall_score, roc_auc_score, roc_curve\n",
        ")\n",
        "from sklearn.preprocessing import label_binarize\n",
        "from tqdm import tqdm\n",
        "\n",
        "warnings.filterwarnings(\"ignore\")\n",
        "\n",
        "# -------------------\n",
        "# Setup\n",
        "# -------------------\n",
        "def set_seed(seed=42):\n",
        "    random.seed(seed)\n",
        "    np.random.seed(seed)\n",
        "    torch.manual_seed(seed)\n",
        "    torch.cuda.manual_seed_all(seed)\n",
        "    torch.backends.cudnn.deterministic = True\n",
        "    torch.backends.cudnn.benchmark = False\n",
        "\n",
        "set_seed(42)\n",
        "device = torch.device(\"cuda\" if torch.cuda.is_available() else \"cpu\")\n",
        "print(\"[INFO] Using device:\", device)\n",
        "\n",
        "# -------------------\n",
        "# Paths\n",
        "# -------------------\n",
        "# Expect structure:\n",
        "# DATA_DIR/\n",
        "#   train/\n",
        "#     mild/ ... 2560 images\n",
        "#     moderate/ ... 2560 images\n",
        "#     no/ ... 2560 images\n",
        "#     very mild/ ... 2560 images\n",
        "#   test/\n",
        "#     (same class subfolders)\n",
        "DATA_DIR   = \"/content/drive/MyDrive/Combined Dataset\"       # <--- change if needed\n",
        "OUTPUT_DIR = \"/content/outputs\"\n",
        "os.makedirs(OUTPUT_DIR, exist_ok=True)\n",
        "\n",
        "# -------------------\n",
        "# Transforms (MRI-friendly)\n",
        "# -------------------\n",
        "train_transforms = transforms.Compose([\n",
        "    transforms.Resize(256),\n",
        "    transforms.RandomResizedCrop(224, scale=(0.9, 1.0), ratio=(0.95, 1.05)),\n",
        "    transforms.RandomRotation(5),\n",
        "    transforms.RandomHorizontalFlip(p=0.5),  # ok for many public MRI sets; turn off if laterality matters for your labels\n",
        "    transforms.ToTensor(),\n",
        "    transforms.Normalize([0.485, 0.456, 0.406],\n",
        "                         [0.229, 0.224, 0.225]),\n",
        "])\n",
        "\n",
        "eval_transforms = transforms.Compose([\n",
        "    transforms.Resize(256),\n",
        "    transforms.CenterCrop(224),\n",
        "    transforms.ToTensor(),\n",
        "    transforms.Normalize([0.485, 0.456, 0.406],\n",
        "                         [0.229, 0.224, 0.225]),\n",
        "])\n",
        "\n",
        "train_dir = os.path.join(DATA_DIR, \"train\")\n",
        "test_dir  = os.path.join(DATA_DIR, \"test\")\n",
        "\n",
        "print(\"[INFO] Loading datasets...\")\n",
        "full_train_dataset = datasets.ImageFolder(train_dir, transform=train_transforms)\n",
        "val_view_dataset   = datasets.ImageFolder(train_dir, transform=eval_transforms)  # same files, eval-time transforms for val\n",
        "test_dataset       = datasets.ImageFolder(test_dir,  transform=eval_transforms)\n",
        "\n",
        "class_names = full_train_dataset.classes\n",
        "num_classes = len(class_names)\n",
        "print(\"[INFO] Classes:\", class_names)\n",
        "\n",
        "# -------------------\n",
        "# Stratified train/val split (15% val)\n",
        "# -------------------\n",
        "targets = np.array([y for _, y in full_train_dataset.samples])\n",
        "sss = StratifiedShuffleSplit(n_splits=1, test_size=0.15, random_state=42)\n",
        "train_idx, val_idx = next(sss.split(np.zeros(len(targets)), targets))\n",
        "\n",
        "train_dataset = Subset(full_train_dataset, train_idx)\n",
        "val_dataset   = Subset(val_view_dataset,   val_idx)  # note: eval transforms here\n",
        "\n",
        "# Balanced classes (as per dataset) -> no weighted sampler needed\n",
        "BATCH_SIZE = 32\n",
        "common_loader_args = dict(num_workers=2, pin_memory=(device.type==\"cuda\"), persistent_workers=True)\n",
        "\n",
        "train_loader = DataLoader(train_dataset, batch_size=BATCH_SIZE, shuffle=True,  **common_loader_args)\n",
        "val_loader   = DataLoader(val_dataset,   batch_size=BATCH_SIZE, shuffle=False, **common_loader_args)\n",
        "test_loader  = DataLoader(test_dataset,  batch_size=BATCH_SIZE, shuffle=False, **common_loader_args)\n",
        "\n",
        "print(f\"[DEBUG] Train size: {len(train_dataset)}, Val size: {len(val_dataset)}, Test size: {len(test_dataset)}\")\n",
        "print(\"[DEBUG] Train class counts:\", Counter(targets[train_idx]))\n",
        "print(\"[DEBUG]  Val  class counts:\", Counter(targets[val_idx]))\n",
        "\n",
        "# -------------------\n",
        "# Model\n",
        "# -------------------\n",
        "print(\"[INFO] Initializing model...\")\n",
        "weights = ResNet50_Weights.IMAGENET1K_V2\n",
        "model = models.resnet50(weights=weights)\n",
        "\n",
        "in_features = model.fc.in_features\n",
        "model.fc = nn.Sequential(\n",
        "    nn.Linear(in_features, 512),\n",
        "    nn.ReLU(inplace=True),\n",
        "    nn.Dropout(0.5),\n",
        "    nn.Linear(512, num_classes)\n",
        ")\n",
        "model = model.to(device)\n",
        "\n",
        "# Warmup: freeze backbone for first 2 epochs, then unfreeze\n",
        "for name, p in model.named_parameters():\n",
        "    if not name.startswith(\"fc.\"):\n",
        "        p.requires_grad = False\n",
        "\n",
        "criterion = nn.CrossEntropyLoss(label_smoothing=0.05)\n",
        "optimizer = optim.AdamW(filter(lambda p: p.requires_grad, model.parameters()), lr=1e-3, weight_decay=1e-4)\n",
        "# Cosine schedule over (up to) 15 epochs; we step per-epoch\n",
        "EPOCHS = 15\n",
        "scheduler = optim.lr_scheduler.CosineAnnealingLR(optimizer, T_max=EPOCHS-1)\n",
        "scaler = torch.cuda.amp.GradScaler(enabled=(device.type==\"cuda\"))\n",
        "\n",
        "# -------------------\n",
        "# Training utils\n",
        "# -------------------\n",
        "def evaluate(model, loader):\n",
        "    model.eval()\n",
        "    total_loss, total_correct = 0.0, 0\n",
        "    y_true, y_pred, y_prob = [], [], []\n",
        "    with torch.no_grad():\n",
        "        for inputs, labels in loader:\n",
        "            inputs = inputs.to(device, non_blocking=True)\n",
        "            labels = labels.to(device, non_blocking=True)\n",
        "            with torch.cuda.amp.autocast(enabled=(device.type==\"cuda\")):\n",
        "                logits = model(inputs)\n",
        "                loss = criterion(logits, labels)\n",
        "                probs = torch.softmax(logits, dim=1)\n",
        "            total_loss += loss.item() * inputs.size(0)\n",
        "            total_correct += (logits.argmax(1) == labels).sum().item()\n",
        "            y_true.extend(labels.detach().cpu().numpy())\n",
        "            y_pred.extend(logits.argmax(1).detach().cpu().numpy())\n",
        "            y_prob.append(probs.detach().cpu().numpy())\n",
        "    avg_loss = total_loss / len(loader.dataset)\n",
        "    avg_acc  = total_correct / len(loader.dataset)\n",
        "    y_prob = np.concatenate(y_prob, axis=0) if len(y_prob) else np.array([])\n",
        "    return avg_loss, avg_acc, np.array(y_true), np.array(y_pred), y_prob\n",
        "\n",
        "def train_one_epoch(model, loader, optimizer, scaler):\n",
        "    model.train()\n",
        "    total_loss, total_correct = 0.0, 0\n",
        "    for batch_idx, (inputs, labels) in enumerate(tqdm(loader, desc=\"Training\", leave=False)):\n",
        "        if batch_idx == 0:\n",
        "            print(f\"[DEBUG] First train batch shape: {inputs.shape}\")\n",
        "        inputs = inputs.to(device, non_blocking=True)\n",
        "        labels = labels.to(device, non_blocking=True)\n",
        "        optimizer.zero_grad(set_to_none=True)\n",
        "        with torch.cuda.amp.autocast(enabled=(device.type==\"cuda\")):\n",
        "            logits = model(inputs)\n",
        "            loss = criterion(logits, labels)\n",
        "        scaler.scale(loss).backward()\n",
        "        scaler.step(optimizer)\n",
        "        scaler.update()\n",
        "        total_loss += loss.item() * inputs.size(0)\n",
        "        total_correct += (logits.argmax(1) == labels).sum().item()\n",
        "    avg_loss = total_loss / len(loader.dataset)\n",
        "    avg_acc  = total_correct / len(loader.dataset)\n",
        "    return avg_loss, avg_acc\n",
        "\n",
        "# -------------------\n",
        "# Train loop with warmup-unfreeze + early stopping on macro-F1\n",
        "# -------------------\n",
        "best_metric = -1.0\n",
        "EARLY_STOP_PATIENCE = 5\n",
        "no_improve = 0\n",
        "WARMUP_EPOCHS = 2\n",
        "\n",
        "for epoch in range(1, EPOCHS + 1):\n",
        "    print(f\"\\n[INFO] Epoch {epoch}/{EPOCHS}\")\n",
        "\n",
        "    # Unfreeze backbone after warmup and lower LR a bit\n",
        "    if epoch == WARMUP_EPOCHS + 1:\n",
        "        for p in model.parameters():\n",
        "            p.requires_grad = True\n",
        "        optimizer = optim.AdamW(model.parameters(), lr=5e-4, weight_decay=1e-4)\n",
        "        scheduler = optim.lr_scheduler.CosineAnnealingLR(optimizer, T_max=EPOCHS-epoch+1)\n",
        "        print(\"[INFO] Unfroze backbone and adjusted optimizer LR for full fine-tuning.\")\n",
        "\n",
        "    tr_loss, tr_acc = train_one_epoch(model, train_loader, optimizer, scaler)\n",
        "    scheduler.step()\n",
        "\n",
        "    val_loss, val_acc, y_true, y_pred, y_prob = evaluate(model, val_loader)\n",
        "    macro_f1 = f1_score(y_true, y_pred, average=\"macro\")\n",
        "    per_class_recall = recall_score(y_true, y_pred, average=None, labels=list(range(num_classes)))\n",
        "\n",
        "    print(f\"[INFO] Train Loss {tr_loss:.4f} Acc {tr_acc:.4f} | Val Loss {val_loss:.4f} Acc {val_acc:.4f} | Macro-F1 {macro_f1:.4f}\")\n",
        "    print(\"[DEBUG] Per-class recall:\", {cls: f\"{r:.3f}\" for cls, r in zip(class_names, per_class_recall)})\n",
        "\n",
        "    # checkpoint on macro-F1\n",
        "    if macro_f1 > best_metric + 1e-4:\n",
        "        best_metric = macro_f1\n",
        "        no_improve = 0\n",
        "        torch.save({\n",
        "            \"model_state\": model.state_dict(),\n",
        "            \"epoch\": epoch,\n",
        "            \"best_metric\": best_metric,\n",
        "            \"class_names\": class_names\n",
        "        }, os.path.join(OUTPUT_DIR, \"best_model.pth\"))\n",
        "        print(\"[INFO] ✅ Saved best model (macro-F1 improved).\")\n",
        "    else:\n",
        "        no_improve += 1\n",
        "        if no_improve >= EARLY_STOP_PATIENCE:\n",
        "            print(\"[INFO] Early stopping triggered.\")\n",
        "            break\n",
        "\n",
        "# -------------------\n",
        "# Load best model\n",
        "# -------------------\n",
        "ckpt_path = os.path.join(OUTPUT_DIR, \"best_model.pth\")\n",
        "print(\"\\n[INFO] Loading best model from:\", ckpt_path)\n",
        "ckpt = torch.load(ckpt_path, map_location=device)  # <-- removed map_logical_locations\n",
        "model.load_state_dict(ckpt[\"model_state\"])\n",
        "model.eval()\n",
        "\n",
        "# -------------------\n",
        "# Test-time augmentation (TTA)\n",
        "# -------------------\n",
        "def tta_logits(model, img):\n",
        "    \"\"\"Return averaged logits over a small TTA set.\"\"\"\n",
        "    model.eval()\n",
        "    with torch.no_grad():\n",
        "        batch = [img]  # original\n",
        "        # hflip\n",
        "        batch.append(torch.flip(img, dims=[2]))  # flip width (HWC->CHW: dim=2 is W)\n",
        "        # small rotations +/- 3 degrees\n",
        "        rot_plus  = transforms.functional.rotate(img, 3)\n",
        "        rot_minus = transforms.functional.rotate(img, -3)\n",
        "        batch.extend([rot_plus, rot_minus])\n",
        "        batch = torch.stack(batch).to(device, non_blocking=True)\n",
        "        with torch.cuda.amp.autocast(enabled=(device.type==\"cuda\")):\n",
        "            logits = model(batch)  # [N_aug, C]\n",
        "        logits = logits.mean(dim=0, keepdim=True)  # [1, C]\n",
        "    return logits\n",
        "\n",
        "def predict_loader(model, loader, use_tta=True):\n",
        "    y_true, y_pred, y_prob = [], [], []\n",
        "    total_correct = 0\n",
        "    with torch.no_grad():\n",
        "        for inputs, labels in tqdm(loader, desc=\"Testing\"):\n",
        "            labels = labels.to(device, non_blocking=True)\n",
        "            if use_tta:\n",
        "                logits_list = []\n",
        "                for img in inputs:  # loop images to apply TTA (keeps it simple & memory-safe)\n",
        "                    logit = tta_logits(model, img)\n",
        "                    logits_list.append(logit)\n",
        "                logits = torch.cat(logits_list, dim=0)\n",
        "            else:\n",
        "                inputs = inputs.to(device, non_blocking=True)\n",
        "                with torch.cuda.amp.autocast(enabled=(device.type==\"cuda\")):\n",
        "                    logits = model(inputs)\n",
        "            probs = torch.softmax(logits, dim=1)\n",
        "\n",
        "            total_correct += (logits.argmax(1) == labels).sum().item()\n",
        "            y_true.extend(labels.detach().cpu().numpy())\n",
        "            y_pred.extend(logits.argmax(1).detach().cpu().numpy())\n",
        "            y_prob.append(probs.detach().cpu().numpy())\n",
        "\n",
        "    acc = total_correct / len(loader.dataset)\n",
        "    y_prob = np.concatenate(y_prob, axis=0)\n",
        "    return np.array(y_true), np.array(y_pred), y_prob, acc\n",
        "\n",
        "# -------------------\n",
        "# Final Test (with and without TTA)\n",
        "# -------------------\n",
        "print(\"\\n[INFO] Evaluating on Test set...\")\n",
        "y_true, y_pred, y_prob, test_acc = predict_loader(model, test_loader, use_tta=True)\n",
        "print(f\"[INFO] Test Accuracy (TTA): {test_acc:.4f}\")\n",
        "print(\"[INFO] Test classification report (TTA):\")\n",
        "print(classification_report(y_true, y_pred, target_names=class_names, digits=4))\n",
        "\n",
        "cm = confusion_matrix(y_true, y_pred)\n",
        "disp = ConfusionMatrixDisplay(confusion_matrix=cm, display_labels=class_names)\n",
        "disp.plot(cmap=\"Blues\")\n",
        "plt.title(\"Confusion Matrix (Test Set, TTA)\")\n",
        "plt.show()\n",
        "\n",
        "# Macro ROC-AUC (one-vs-rest)\n",
        "try:\n",
        "    y_true_bin = label_binarize(y_true, classes=list(range(num_classes)))\n",
        "    macro_auc = roc_auc_score(y_true_bin, y_prob, average=\"macro\", multi_class=\"ovr\")\n",
        "    print(f\"[INFO] Macro ROC-AUC (ovr, TTA): {macro_auc:.4f}\")\n",
        "    # Plot one-vs-rest ROC curves\n",
        "    plt.figure(figsize=(6, 5))\n",
        "    for i, cls in enumerate(class_names):\n",
        "        fpr, tpr, _ = roc_curve(y_true_bin[:, i], y_prob[:, i])\n",
        "        auc_i = roc_auc_score(y_true_bin[:, i], y_prob[:, i])\n",
        "        plt.plot(fpr, tpr, label=f\"{cls} (AUC={auc_i:.3f})\")\n",
        "    plt.plot([0,1], [0,1], linestyle=\"--\")\n",
        "    plt.xlabel(\"False Positive Rate\"); plt.ylabel(\"True Positive Rate\")\n",
        "    plt.title(\"One-vs-Rest ROC (Test, TTA)\")\n",
        "    plt.legend()\n",
        "    plt.grid(True, alpha=0.3)\n",
        "    plt.show()\n",
        "except Exception as e:\n",
        "    print(\"[WARN] ROC-AUC plotting skipped:\", e)\n",
        "\n",
        "# -------------------\n",
        "# Grad-CAM (last ResNet block)\n",
        "# -------------------\n",
        "print(\"[INFO] Running Grad-CAM visualization...\")\n",
        "\n",
        "target_block = model.layer4[-1]  # last Bottleneck block\n",
        "\n",
        "# --- Drop-in replacement for generate_gradcam() ---\n",
        "\n",
        "# --- Drop-in replacement for generate_gradcam() ---\n",
        "\n",
        "def generate_gradcam(img_tensor, class_idx=None):\n",
        "    \"\"\"\n",
        "    Robust Grad-CAM for ResNet50 last block output.\n",
        "    Handles NaNs/Inf, dtype, contiguity and provides a safe fallback overlay.\n",
        "    \"\"\"\n",
        "    grads, acts = [], []\n",
        "\n",
        "    def f_hook(module, inp, out):\n",
        "        # out: [N, C, H, W]\n",
        "        acts.append(out.detach())\n",
        "\n",
        "    def b_hook(module, grad_in, grad_out):\n",
        "        # grad_out[0]: [N, C, H, W]\n",
        "        grads.append(grad_out[0].detach())\n",
        "\n",
        "    h_f = target_block.register_forward_hook(f_hook)\n",
        "    h_b = target_block.register_full_backward_hook(b_hook)\n",
        "\n",
        "    model.eval()\n",
        "    img = img_tensor.unsqueeze(0).to(device)\n",
        "    img.requires_grad_(True)\n",
        "\n",
        "    with torch.cuda.amp.autocast(enabled=(device.type==\"cuda\")):\n",
        "        out = model(img)\n",
        "\n",
        "    if class_idx is None:\n",
        "        class_idx = out.argmax(1).item()\n",
        "    score = out[:, class_idx]\n",
        "\n",
        "    model.zero_grad(set_to_none=True)\n",
        "    score.backward()\n",
        "\n",
        "    # --- safety checks ---\n",
        "    if not acts or not grads:\n",
        "        h_f.remove(); h_b.remove()\n",
        "        raise RuntimeError(\"Grad-CAM hooks did not capture activations/gradients.\")\n",
        "\n",
        "    activations = acts[0][0]          # [C, H, W]\n",
        "    gradients  = grads[0][0]          # [C, H, W]\n",
        "    weights = gradients.mean(dim=(1, 2))  # [C]\n",
        "\n",
        "    cam = torch.relu((weights[:, None, None] * activations).sum(dim=0))  # [H, W]\n",
        "    cam = cam.detach().cpu().numpy()\n",
        "\n",
        "    # --- sanitize CAM for OpenCV ---\n",
        "    cam = np.nan_to_num(cam, nan=0.0, posinf=0.0, neginf=0.0)\n",
        "    if cam.size == 0:\n",
        "        h_f.remove(); h_b.remove()\n",
        "        raise RuntimeError(\"Grad-CAM produced empty array.\")\n",
        "    if np.all(cam == 0):\n",
        "        # avoid division by zero; make a tiny bump so resize/mapping works\n",
        "        cam = cam.copy()\n",
        "        cam[0, 0] = 1e-6\n",
        "\n",
        "    cam = cam / (cam.max() + 1e-6)\n",
        "    cam = cam.astype(np.float32, copy=False)\n",
        "    cam = np.ascontiguousarray(cam)   # OpenCV needs contiguous memory\n",
        "\n",
        "    # prepare base image (de-normalized to 0..1 for display)\n",
        "    img_np = img_tensor.detach().cpu().permute(1, 2, 0).numpy()\n",
        "    img_np = (img_np - img_np.min()) / (img_np.max() - img_np.min() + 1e-6)\n",
        "    base_uint8 = (np.clip(img_np, 0, 1) * 255).astype(np.uint8)\n",
        "\n",
        "    # Try OpenCV overlay; fall back to Matplotlib if it fails\n",
        "    try:\n",
        "        heatmap = cv2.resize(cam, (base_uint8.shape[1], base_uint8.shape[0]), interpolation=cv2.INTER_LINEAR)\n",
        "        heatmap = np.uint8(np.clip(heatmap, 0, 1) * 255)\n",
        "        heatmap = cv2.applyColorMap(heatmap, cv2.COLORMAP_JET)\n",
        "        overlay = cv2.addWeighted(base_uint8, 0.6, heatmap, 0.4, 0)\n",
        "    except Exception as e:\n",
        "        # Fallback: blend via numpy + matplotlib colormap (no OpenCV)\n",
        "        import matplotlib.cm as cm\n",
        "        cmap = cm.get_cmap('jet')\n",
        "        heat_rgb = (cmap(cam)[..., :3] * 255).astype(np.uint8)  # RGBA->RGB\n",
        "        overlay = (0.6 * base_uint8 + 0.4 * heat_rgb).astype(np.uint8)\n",
        "\n",
        "    h_f.remove(); h_b.remove()\n",
        "    return overlay, class_idx\n",
        "\n"
      ],
      "metadata": {
        "colab": {
          "base_uri": "https://localhost:8080/",
          "height": 1000
        },
        "id": "3wRj5FDGCVKe",
        "outputId": "80acb6f2-b16d-428f-a8f0-dcbd5698c99a"
      },
      "execution_count": null,
      "outputs": [
        {
          "metadata": {
            "tags": null
          },
          "name": "stdout",
          "output_type": "stream",
          "text": [
            "\u001b[2K   \u001b[90m━━━━━━━━━━━━━━━━━━━━━━━━━━━━━━━━━━━━━━━━\u001b[0m \u001b[32m9.5/9.5 MB\u001b[0m \u001b[31m37.8 MB/s\u001b[0m eta \u001b[36m0:00:00\u001b[0m\n",
            "\u001b[2K   \u001b[90m━━━━━━━━━━━━━━━━━━━━━━━━━━━━━━━━━━━━━━━━\u001b[0m \u001b[32m8.7/8.7 MB\u001b[0m \u001b[31m31.0 MB/s\u001b[0m eta \u001b[36m0:00:00\u001b[0m\n",
            "\u001b[?25hDrive already mounted at /content/drive; to attempt to forcibly remount, call drive.mount(\"/content/drive\", force_remount=True).\n",
            "[INFO] Using device: cuda\n",
            "[INFO] Loading datasets...\n",
            "[INFO] Classes: ['Mild Impairment', 'Moderate Impairment', 'No Impairment', 'Very Mild Impairment']\n",
            "[DEBUG] Train size: 8772, Val size: 1548, Test size: 1289\n",
            "[DEBUG] Train class counts: Counter({np.int64(2): 2210, np.int64(0): 2193, np.int64(3): 2193, np.int64(1): 2176})\n",
            "[DEBUG]  Val  class counts: Counter({np.int64(2): 390, np.int64(3): 387, np.int64(0): 387, np.int64(1): 384})\n",
            "[INFO] Initializing model...\n",
            "Downloading: \"https://download.pytorch.org/models/resnet50-11ad3fa6.pth\" to /root/.cache/torch/hub/checkpoints/resnet50-11ad3fa6.pth\n"
          ]
        },
        {
          "metadata": {
            "tags": null
          },
          "name": "stderr",
          "output_type": "stream",
          "text": [
            "100%|██████████| 97.8M/97.8M [00:00<00:00, 190MB/s]\n"
          ]
        },
        {
          "metadata": {
            "tags": null
          },
          "name": "stdout",
          "output_type": "stream",
          "text": [
            "\n",
            "[INFO] Epoch 1/15\n"
          ]
        },
        {
          "metadata": {
            "tags": null
          },
          "name": "stderr",
          "output_type": "stream",
          "text": [
            "\rTraining:   0%|          | 0/275 [00:00<?, ?it/s]"
          ]
        },
        {
          "metadata": {
            "tags": null
          },
          "name": "stdout",
          "output_type": "stream",
          "text": [
            "[DEBUG] First train batch shape: torch.Size([32, 3, 224, 224])\n"
          ]
        },
        {
          "metadata": {
            "tags": null
          },
          "name": "stderr",
          "output_type": "stream",
          "text": [
            ""
          ]
        },
        {
          "metadata": {
            "tags": null
          },
          "name": "stdout",
          "output_type": "stream",
          "text": [
            "[INFO] Train Loss 0.8435 Acc 0.6732 | Val Loss 0.7926 Acc 0.6886 | Macro-F1 0.6757\n",
            "[DEBUG] Per-class recall: {'Mild Impairment': '0.656', 'Moderate Impairment': '0.977', 'No Impairment': '0.759', 'Very Mild Impairment': '0.364'}\n",
            "[INFO] ✅ Saved best model (macro-F1 improved).\n",
            "\n",
            "[INFO] Epoch 2/15\n"
          ]
        },
        {
          "metadata": {
            "tags": null
          },
          "name": "stderr",
          "output_type": "stream",
          "text": [
            "Training:   0%|          | 1/275 [00:00<03:23,  1.34it/s]"
          ]
        },
        {
          "metadata": {
            "tags": null
          },
          "name": "stdout",
          "output_type": "stream",
          "text": [
            "[DEBUG] First train batch shape: torch.Size([32, 3, 224, 224])\n"
          ]
        },
        {
          "metadata": {
            "tags": null
          },
          "name": "stderr",
          "output_type": "stream",
          "text": [
            ""
          ]
        },
        {
          "metadata": {
            "tags": null
          },
          "name": "stdout",
          "output_type": "stream",
          "text": [
            "[INFO] Train Loss 0.7184 Acc 0.7295 | Val Loss 0.7594 Acc 0.7280 | Macro-F1 0.7267\n",
            "[DEBUG] Per-class recall: {'Mild Impairment': '0.757', 'Moderate Impairment': '0.964', 'No Impairment': '0.438', 'Very Mild Impairment': '0.757'}\n",
            "[INFO] ✅ Saved best model (macro-F1 improved).\n",
            "\n",
            "[INFO] Epoch 3/15\n",
            "[INFO] Unfroze backbone and adjusted optimizer LR for full fine-tuning.\n"
          ]
        },
        {
          "metadata": {
            "tags": null
          },
          "name": "stderr",
          "output_type": "stream",
          "text": [
            "\rTraining:   0%|          | 0/275 [00:00<?, ?it/s]"
          ]
        },
        {
          "metadata": {
            "tags": null
          },
          "name": "stdout",
          "output_type": "stream",
          "text": [
            "[DEBUG] First train batch shape: torch.Size([32, 3, 224, 224])\n"
          ]
        },
        {
          "metadata": {
            "tags": null
          },
          "name": "stderr",
          "output_type": "stream",
          "text": [
            ""
          ]
        },
        {
          "metadata": {
            "tags": null
          },
          "name": "stdout",
          "output_type": "stream",
          "text": [
            "[INFO] Train Loss 0.6186 Acc 0.7886 | Val Loss 1.4644 Acc 0.4806 | Macro-F1 0.4485\n",
            "[DEBUG] Per-class recall: {'Mild Impairment': '0.119', 'Moderate Impairment': '1.000', 'No Impairment': '0.472', 'Very Mild Impairment': '0.336'}\n",
            "\n",
            "[INFO] Epoch 4/15\n"
          ]
        },
        {
          "metadata": {
            "tags": null
          },
          "name": "stderr",
          "output_type": "stream",
          "text": [
            "Training:   0%|          | 1/275 [00:00<01:53,  2.40it/s]"
          ]
        },
        {
          "metadata": {
            "tags": null
          },
          "name": "stdout",
          "output_type": "stream",
          "text": [
            "[DEBUG] First train batch shape: torch.Size([32, 3, 224, 224])\n"
          ]
        },
        {
          "metadata": {
            "tags": null
          },
          "name": "stderr",
          "output_type": "stream",
          "text": [
            ""
          ]
        },
        {
          "metadata": {
            "tags": null
          },
          "name": "stdout",
          "output_type": "stream",
          "text": [
            "[INFO] Train Loss 0.5080 Acc 0.8524 | Val Loss 0.6194 Acc 0.7797 | Macro-F1 0.7721\n",
            "[DEBUG] Per-class recall: {'Mild Impairment': '0.902', 'Moderate Impairment': '0.997', 'No Impairment': '0.649', 'Very Mild Impairment': '0.574'}\n",
            "[INFO] ✅ Saved best model (macro-F1 improved).\n",
            "\n",
            "[INFO] Epoch 5/15\n"
          ]
        },
        {
          "metadata": {
            "tags": null
          },
          "name": "stderr",
          "output_type": "stream",
          "text": [
            "Training:   0%|          | 1/275 [00:00<03:33,  1.28it/s]"
          ]
        },
        {
          "metadata": {
            "tags": null
          },
          "name": "stdout",
          "output_type": "stream",
          "text": [
            "[DEBUG] First train batch shape: torch.Size([32, 3, 224, 224])\n"
          ]
        },
        {
          "metadata": {
            "tags": null
          },
          "name": "stderr",
          "output_type": "stream",
          "text": [
            ""
          ]
        },
        {
          "metadata": {
            "tags": null
          },
          "name": "stdout",
          "output_type": "stream",
          "text": [
            "[INFO] Train Loss 0.4328 Acc 0.8947 | Val Loss 0.7471 Acc 0.7713 | Macro-F1 0.7573\n",
            "[DEBUG] Per-class recall: {'Mild Impairment': '0.654', 'Moderate Impairment': '1.000', 'No Impairment': '0.990', 'Very Mild Impairment': '0.442'}\n",
            "\n",
            "[INFO] Epoch 6/15\n"
          ]
        },
        {
          "metadata": {
            "tags": null
          },
          "name": "stderr",
          "output_type": "stream",
          "text": [
            "Training:   0%|          | 1/275 [00:00<01:59,  2.30it/s]"
          ]
        },
        {
          "metadata": {
            "tags": null
          },
          "name": "stdout",
          "output_type": "stream",
          "text": [
            "[DEBUG] First train batch shape: torch.Size([32, 3, 224, 224])\n"
          ]
        },
        {
          "metadata": {
            "tags": null
          },
          "name": "stderr",
          "output_type": "stream",
          "text": [
            ""
          ]
        },
        {
          "metadata": {
            "tags": null
          },
          "name": "stdout",
          "output_type": "stream",
          "text": [
            "[INFO] Train Loss 0.3844 Acc 0.9174 | Val Loss 0.6784 Acc 0.7797 | Macro-F1 0.7614\n",
            "[DEBUG] Per-class recall: {'Mild Impairment': '0.349', 'Moderate Impairment': '0.990', 'No Impairment': '0.936', 'Very Mild Impairment': '0.845'}\n",
            "\n",
            "[INFO] Epoch 7/15\n"
          ]
        },
        {
          "metadata": {
            "tags": null
          },
          "name": "stderr",
          "output_type": "stream",
          "text": [
            "Training:   0%|          | 1/275 [00:00<01:55,  2.38it/s]"
          ]
        },
        {
          "metadata": {
            "tags": null
          },
          "name": "stdout",
          "output_type": "stream",
          "text": [
            "[DEBUG] First train batch shape: torch.Size([32, 3, 224, 224])\n"
          ]
        },
        {
          "metadata": {
            "tags": null
          },
          "name": "stderr",
          "output_type": "stream",
          "text": [
            ""
          ]
        },
        {
          "metadata": {
            "tags": null
          },
          "name": "stdout",
          "output_type": "stream",
          "text": [
            "[INFO] Train Loss 0.3325 Acc 0.9463 | Val Loss 0.5192 Acc 0.8527 | Macro-F1 0.8534\n",
            "[DEBUG] Per-class recall: {'Mild Impairment': '0.711', 'Moderate Impairment': '0.997', 'No Impairment': '0.982', 'Very Mild Impairment': '0.721'}\n",
            "[INFO] ✅ Saved best model (macro-F1 improved).\n",
            "\n",
            "[INFO] Epoch 8/15\n"
          ]
        },
        {
          "metadata": {
            "tags": null
          },
          "name": "stderr",
          "output_type": "stream",
          "text": [
            "Training:   0%|          | 1/275 [00:00<04:11,  1.09it/s]"
          ]
        },
        {
          "metadata": {
            "tags": null
          },
          "name": "stdout",
          "output_type": "stream",
          "text": [
            "[DEBUG] First train batch shape: torch.Size([32, 3, 224, 224])\n"
          ]
        },
        {
          "metadata": {
            "tags": null
          },
          "name": "stderr",
          "output_type": "stream",
          "text": [
            ""
          ]
        },
        {
          "metadata": {
            "tags": null
          },
          "name": "stdout",
          "output_type": "stream",
          "text": [
            "[INFO] Train Loss 0.2915 Acc 0.9659 | Val Loss 0.4254 Acc 0.9031 | Macro-F1 0.9012\n",
            "[DEBUG] Per-class recall: {'Mild Impairment': '0.990', 'Moderate Impairment': '0.987', 'No Impairment': '0.915', 'Very Mild Impairment': '0.721'}\n",
            "[INFO] ✅ Saved best model (macro-F1 improved).\n",
            "\n",
            "[INFO] Epoch 9/15\n"
          ]
        },
        {
          "metadata": {
            "tags": null
          },
          "name": "stderr",
          "output_type": "stream",
          "text": [
            "Training:   0%|          | 1/275 [00:00<03:28,  1.32it/s]"
          ]
        },
        {
          "metadata": {
            "tags": null
          },
          "name": "stdout",
          "output_type": "stream",
          "text": [
            "[DEBUG] First train batch shape: torch.Size([32, 3, 224, 224])\n"
          ]
        },
        {
          "metadata": {
            "tags": null
          },
          "name": "stderr",
          "output_type": "stream",
          "text": [
            ""
          ]
        },
        {
          "metadata": {
            "tags": null
          },
          "name": "stdout",
          "output_type": "stream",
          "text": [
            "[INFO] Train Loss 0.2664 Acc 0.9785 | Val Loss 0.3710 Acc 0.9341 | Macro-F1 0.9352\n",
            "[DEBUG] Per-class recall: {'Mild Impairment': '0.876', 'Moderate Impairment': '1.000', 'No Impairment': '0.872', 'Very Mild Impairment': '0.990'}\n",
            "[INFO] ✅ Saved best model (macro-F1 improved).\n",
            "\n",
            "[INFO] Epoch 10/15\n"
          ]
        },
        {
          "metadata": {
            "tags": null
          },
          "name": "stderr",
          "output_type": "stream",
          "text": [
            "Training:   0%|          | 1/275 [00:00<03:30,  1.30it/s]"
          ]
        },
        {
          "metadata": {
            "tags": null
          },
          "name": "stdout",
          "output_type": "stream",
          "text": [
            "[DEBUG] First train batch shape: torch.Size([32, 3, 224, 224])\n"
          ]
        },
        {
          "metadata": {
            "tags": null
          },
          "name": "stderr",
          "output_type": "stream",
          "text": [
            ""
          ]
        },
        {
          "metadata": {
            "tags": null
          },
          "name": "stdout",
          "output_type": "stream",
          "text": [
            "[INFO] Train Loss 0.2474 Acc 0.9879 | Val Loss 0.3358 Acc 0.9432 | Macro-F1 0.9439\n",
            "[DEBUG] Per-class recall: {'Mild Impairment': '0.946', 'Moderate Impairment': '0.997', 'No Impairment': '0.990', 'Very Mild Impairment': '0.840'}\n",
            "[INFO] ✅ Saved best model (macro-F1 improved).\n",
            "\n",
            "[INFO] Epoch 11/15\n"
          ]
        },
        {
          "metadata": {
            "tags": null
          },
          "name": "stderr",
          "output_type": "stream",
          "text": [
            "Training:   0%|          | 1/275 [00:00<03:29,  1.31it/s]"
          ]
        },
        {
          "metadata": {
            "tags": null
          },
          "name": "stdout",
          "output_type": "stream",
          "text": [
            "[DEBUG] First train batch shape: torch.Size([32, 3, 224, 224])\n"
          ]
        },
        {
          "metadata": {
            "tags": null
          },
          "name": "stderr",
          "output_type": "stream",
          "text": [
            ""
          ]
        },
        {
          "metadata": {
            "tags": null
          },
          "name": "stdout",
          "output_type": "stream",
          "text": [
            "[INFO] Train Loss 0.2284 Acc 0.9948 | Val Loss 0.2904 Acc 0.9645 | Macro-F1 0.9647\n",
            "[DEBUG] Per-class recall: {'Mild Impairment': '0.966', 'Moderate Impairment': '1.000', 'No Impairment': '0.985', 'Very Mild Impairment': '0.907'}\n",
            "[INFO] ✅ Saved best model (macro-F1 improved).\n",
            "\n",
            "[INFO] Epoch 12/15\n"
          ]
        },
        {
          "metadata": {
            "tags": null
          },
          "name": "stderr",
          "output_type": "stream",
          "text": [
            "Training:   0%|          | 1/275 [00:00<03:30,  1.30it/s]"
          ]
        },
        {
          "metadata": {
            "tags": null
          },
          "name": "stdout",
          "output_type": "stream",
          "text": [
            "[DEBUG] First train batch shape: torch.Size([32, 3, 224, 224])\n"
          ]
        },
        {
          "metadata": {
            "tags": null
          },
          "name": "stderr",
          "output_type": "stream",
          "text": [
            ""
          ]
        },
        {
          "metadata": {
            "tags": null
          },
          "name": "stdout",
          "output_type": "stream",
          "text": [
            "[INFO] Train Loss 0.2213 Acc 0.9969 | Val Loss 0.2657 Acc 0.9735 | Macro-F1 0.9738\n",
            "[DEBUG] Per-class recall: {'Mild Impairment': '0.966', 'Moderate Impairment': '1.000', 'No Impairment': '0.977', 'Very Mild Impairment': '0.951'}\n",
            "[INFO] ✅ Saved best model (macro-F1 improved).\n",
            "\n",
            "[INFO] Epoch 13/15\n"
          ]
        },
        {
          "metadata": {
            "tags": null
          },
          "name": "stderr",
          "output_type": "stream",
          "text": [
            "Training:   0%|          | 1/275 [00:00<03:42,  1.23it/s]"
          ]
        },
        {
          "metadata": {
            "tags": null
          },
          "name": "stdout",
          "output_type": "stream",
          "text": [
            "[DEBUG] First train batch shape: torch.Size([32, 3, 224, 224])\n"
          ]
        },
        {
          "metadata": {
            "tags": null
          },
          "name": "stderr",
          "output_type": "stream",
          "text": [
            ""
          ]
        },
        {
          "metadata": {
            "tags": null
          },
          "name": "stdout",
          "output_type": "stream",
          "text": [
            "[INFO] Train Loss 0.2169 Acc 0.9991 | Val Loss 0.2720 Acc 0.9683 | Macro-F1 0.9686\n",
            "[DEBUG] Per-class recall: {'Mild Impairment': '0.966', 'Moderate Impairment': '1.000', 'No Impairment': '0.992', 'Very Mild Impairment': '0.915'}\n",
            "\n",
            "[INFO] Epoch 14/15\n"
          ]
        },
        {
          "metadata": {
            "tags": null
          },
          "name": "stderr",
          "output_type": "stream",
          "text": [
            "Training:   0%|          | 1/275 [00:00<01:51,  2.45it/s]"
          ]
        },
        {
          "metadata": {
            "tags": null
          },
          "name": "stdout",
          "output_type": "stream",
          "text": [
            "[DEBUG] First train batch shape: torch.Size([32, 3, 224, 224])\n"
          ]
        },
        {
          "metadata": {
            "tags": null
          },
          "name": "stderr",
          "output_type": "stream",
          "text": [
            ""
          ]
        },
        {
          "metadata": {
            "tags": null
          },
          "name": "stdout",
          "output_type": "stream",
          "text": [
            "[INFO] Train Loss 0.2152 Acc 0.9997 | Val Loss 0.2560 Acc 0.9767 | Macro-F1 0.9769\n",
            "[DEBUG] Per-class recall: {'Mild Impairment': '0.974', 'Moderate Impairment': '1.000', 'No Impairment': '0.982', 'Very Mild Impairment': '0.951'}\n",
            "[INFO] ✅ Saved best model (macro-F1 improved).\n",
            "\n",
            "[INFO] Epoch 15/15\n"
          ]
        },
        {
          "metadata": {
            "tags": null
          },
          "name": "stderr",
          "output_type": "stream",
          "text": [
            "Training:   0%|          | 1/275 [00:00<03:35,  1.27it/s]"
          ]
        },
        {
          "metadata": {
            "tags": null
          },
          "name": "stdout",
          "output_type": "stream",
          "text": [
            "[DEBUG] First train batch shape: torch.Size([32, 3, 224, 224])\n"
          ]
        },
        {
          "metadata": {
            "tags": null
          },
          "name": "stderr",
          "output_type": "stream",
          "text": [
            ""
          ]
        },
        {
          "metadata": {
            "tags": null
          },
          "name": "stdout",
          "output_type": "stream",
          "text": [
            "[INFO] Train Loss 0.2142 Acc 0.9998 | Val Loss 0.2560 Acc 0.9774 | Macro-F1 0.9776\n",
            "[DEBUG] Per-class recall: {'Mild Impairment': '0.972', 'Moderate Impairment': '1.000', 'No Impairment': '0.985', 'Very Mild Impairment': '0.953'}\n",
            "[INFO] ✅ Saved best model (macro-F1 improved).\n",
            "\n",
            "[INFO] Loading best model from: /content/outputs/best_model.pth\n",
            "\n",
            "[INFO] Evaluating on Test set...\n"
          ]
        },
        {
          "output_type": "stream",
          "name": "stderr",
          "text": [
            "Testing: 100%|██████████| 41/41 [03:44<00:00,  5.48s/it]"
          ]
        },
        {
          "output_type": "stream",
          "name": "stdout",
          "text": [
            "[INFO] Test Accuracy (TTA): 0.9728\n",
            "[INFO] Test classification report (TTA):\n",
            "                      precision    recall  f1-score   support\n",
            "\n",
            "     Mild Impairment     0.9719    0.9665    0.9692       179\n",
            " Moderate Impairment     1.0000    1.0000    1.0000        12\n",
            "       No Impairment     0.9641    0.9908    0.9772       650\n",
            "Very Mild Impairment     0.9861    0.9487    0.9670       448\n",
            "\n",
            "            accuracy                         0.9728      1289\n",
            "           macro avg     0.9805    0.9765    0.9784      1289\n",
            "        weighted avg     0.9731    0.9728    0.9728      1289\n",
            "\n"
          ]
        },
        {
          "output_type": "stream",
          "name": "stderr",
          "text": [
            "\n"
          ]
        },
        {
          "output_type": "display_data",
          "data": {
            "text/plain": [
              "<Figure size 640x480 with 2 Axes>"
            ],
            "image/png": "[encoded data removed]"
          },
          "metadata": {}
        },
        {
          "output_type": "stream",
          "name": "stdout",
          "text": [
            "[INFO] Macro ROC-AUC (ovr, TTA): 0.9983\n"
          ]
        },
        {
          "output_type": "display_data",
          "data": {
            "text/plain": [
              "<Figure size 600x500 with 1 Axes>"
            ],
            "image/png": "[encoded data removed]"
          },
          "metadata": {}
        },
        {
          "output_type": "stream",
          "name": "stdout",
          "text": [
            "[INFO] Running Grad-CAM visualization...\n"
          ]
        }
      ]
    }
  ],
  "metadata": {
    "colab": {
      "provenance": [],
      "gpuType": "T4"
    },
    "kernelspec": {
      "display_name": "Python 3",
      "name": "python3"
    },
    "language_info": {
      "name": "python"
    },
    "accelerator": "GPU"
  },
  "nbformat": 4,
  "nbformat_minor": 0
}